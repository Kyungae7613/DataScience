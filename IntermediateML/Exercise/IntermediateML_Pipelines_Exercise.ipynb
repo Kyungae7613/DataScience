{
 "cells": [
  {
   "cell_type": "code",
   "execution_count": 1,
   "id": "dfd280e2",
   "metadata": {},
   "outputs": [],
   "source": [
    "import pandas as pd\n",
    "from sklearn.model_selection import train_test_split"
   ]
  },
  {
   "cell_type": "code",
   "execution_count": 2,
   "id": "c01e39d5",
   "metadata": {},
   "outputs": [],
   "source": [
    "train_data = pd.read_csv('C:../../Dataset/home-data-for-ml-course/train.csv')\n",
    "test_data = pd.read_csv('C:../../Dataset/home-data-for-ml-course/test.csv')"
   ]
  },
  {
   "cell_type": "code",
   "execution_count": 3,
   "id": "67092322",
   "metadata": {},
   "outputs": [],
   "source": [
    "train_data_clean = train_data.dropna(axis=0, subset=['SalePrice'])\n",
    "y = train_data_clean.SalePrice\n",
    "X = train_data_clean.drop(['SalePrice'], axis=1)\n",
    "\n",
    "X_train_full, X_valid_full, y_train, y_valid = train_test_split(X, y, train_size=0.8, test_size=0.2, random_state=0)"
   ]
  },
  {
   "cell_type": "markdown",
   "id": "be6c37b5",
   "metadata": {},
   "source": [
    "### Step1. Preprocessing"
   ]
  },
  {
   "cell_type": "code",
   "execution_count": 4,
   "id": "278e541a",
   "metadata": {},
   "outputs": [],
   "source": [
    "# Select categorical variables from train data\n",
    "categorical_cols = [cname for cname in X_train_full.columns if X_train_full[cname].nunique() < 10 and X_train_full[cname].dtype == 'object']\n",
    "\n",
    "# Select numerical variables from train data\n",
    "numerical_cols = [cname for cname in X_train_full.columns if X_train_full[cname].dtype in ['int64', 'float64']]\n",
    "\n",
    "# Select categorical variables and numerical variables from train data\n",
    "total_selected_cols = categorical_cols + numerical_cols"
   ]
  },
  {
   "cell_type": "code",
   "execution_count": 5,
   "id": "af9c2d85",
   "metadata": {},
   "outputs": [],
   "source": [
    "X_train = X_train_full[total_selected_cols].copy()\n",
    "X_valid = X_valid_full[total_selected_cols].copy()\n",
    "X_test = test_data[total_selected_cols].copy()"
   ]
  },
  {
   "cell_type": "code",
   "execution_count": 6,
   "id": "aa64d008",
   "metadata": {},
   "outputs": [],
   "source": [
    "from sklearn.impute import SimpleImputer\n",
    "from sklearn.pipeline import Pipeline\n",
    "from sklearn.preprocessing import OneHotEncoder\n",
    "from sklearn.compose import ColumnTransformer\n",
    "from sklearn.ensemble import RandomForestRegressor\n",
    "from sklearn.metrics import mean_absolute_error"
   ]
  },
  {
   "cell_type": "code",
   "execution_count": 7,
   "id": "59ef6aa6",
   "metadata": {},
   "outputs": [],
   "source": [
    "# imputation of numerical data\n",
    "numerical_transformer = SimpleImputer(strategy='constant')\n",
    "\n",
    "# imputation and one-hot encoding of categorical data\n",
    "categorical_transformer = Pipeline(steps = [('impute', SimpleImputer(strategy='most_frequent')), ('onehot', OneHotEncoder(handle_unknown='ignore'))])\n"
   ]
  },
  {
   "cell_type": "markdown",
   "id": "5e29487c",
   "metadata": {},
   "source": [
    "### Step2. Bundle preprocessing for numerical and categorical data"
   ]
  },
  {
   "cell_type": "code",
   "execution_count": 8,
   "id": "45f06f0c",
   "metadata": {},
   "outputs": [],
   "source": [
    "preprocessor = ColumnTransformer(\n",
    "    transformers = [\n",
    "        ('num', numerical_transformer, numerical_cols),\n",
    "        ('cat', categorical_transformer, categorical_cols)\n",
    "    ]\n",
    ")"
   ]
  },
  {
   "cell_type": "markdown",
   "id": "c075ca0e",
   "metadata": {},
   "source": [
    "### Step3. Model Learning and the model evaluation"
   ]
  },
  {
   "cell_type": "code",
   "execution_count": 9,
   "id": "819f47d2",
   "metadata": {},
   "outputs": [
    {
     "name": "stdout",
     "output_type": "stream",
     "text": [
      "MAE: 17740.290308219177\n"
     ]
    }
   ],
   "source": [
    "# Define model\n",
    "model = RandomForestRegressor(n_estimators=100, random_state=0)\n",
    "\n",
    "# Bundle preprocessing and modeling code in a pipeline\n",
    "clf = Pipeline(steps=[('preprocessor', preprocessor),\n",
    "                      ('model', model)\n",
    "                     ])\n",
    "\n",
    "# Preprocessing of training data, fit model \n",
    "clf.fit(X_train, y_train)\n",
    "\n",
    "# Preprocessing of validation data, get predictions\n",
    "preds = clf.predict(X_valid)\n",
    "\n",
    "print('MAE:', mean_absolute_error(y_valid, preds))"
   ]
  },
  {
   "cell_type": "markdown",
   "id": "bf8f9858",
   "metadata": {},
   "source": [
    "### Step 4. Improve the performance"
   ]
  },
  {
   "cell_type": "code",
   "execution_count": 11,
   "id": "131fc72e",
   "metadata": {},
   "outputs": [],
   "source": [
    "# Preprocessing for numerical data\n",
    "numerical_transformer = SimpleImputer(strategy='most_frequent')\n",
    "\n",
    "# Preprocessing for categorical data\n",
    "categorical_transformer = Pipeline(steps = [('imputer', SimpleImputer(strategy='most_frequent')), ('onehot', OneHotEncoder(handle_unknown='ignore'))] )\n",
    "\n",
    "# Bundle preprocessings for numerical and categorical data\n",
    "preprocessor = ColumnTransformer(\n",
    "    transformers = [\n",
    "        ('num', numerical_transformer, numerical_cols),\n",
    "        ('cat', categorical_transformer, categorical_cols)\n",
    "    ]\n",
    ")\n",
    "\n",
    "# Define model\n",
    "model = RandomForestRegressor(n_estimators=100, random_state=1)"
   ]
  },
  {
   "cell_type": "code",
   "execution_count": 12,
   "id": "39ba9fe9",
   "metadata": {},
   "outputs": [
    {
     "name": "stdout",
     "output_type": "stream",
     "text": [
      "MAE: 17544.61982876712\n"
     ]
    }
   ],
   "source": [
    "pipeline_bundle = Pipeline(steps=[('preprocessor', preprocessor), ('model', model)])\n",
    "\n",
    "pipeline_bundle.fit(X_train, y_train)\n",
    "preds = pipeline_bundle.predict(X_valid)\n",
    "\n",
    "error_score = mean_absolute_error(y_valid, preds)\n",
    "print('MAE:',error_score)"
   ]
  },
  {
   "cell_type": "markdown",
   "id": "62d40578",
   "metadata": {},
   "source": [
    "### Step 5. Generate test predictors"
   ]
  },
  {
   "cell_type": "code",
   "execution_count": 13,
   "id": "b47564d5",
   "metadata": {},
   "outputs": [],
   "source": [
    "preds_test = pipeline_bundle.predict(X_test)"
   ]
  },
  {
   "cell_type": "markdown",
   "id": "fd1c687e",
   "metadata": {},
   "source": [
    "### Step 6. Save results to CSV file"
   ]
  },
  {
   "cell_type": "code",
   "execution_count": 14,
   "id": "c38c1d0a",
   "metadata": {},
   "outputs": [],
   "source": [
    "output = pd.DataFrame({'Id': X_test.index, 'SalePrice': preds_test})\n",
    "output.to_csv('prediction_results.csv', index=False)"
   ]
  },
  {
   "cell_type": "code",
   "execution_count": null,
   "id": "1575a695",
   "metadata": {},
   "outputs": [],
   "source": []
  }
 ],
 "metadata": {
  "kernelspec": {
   "display_name": "tf_cpu_kernel",
   "language": "python",
   "name": "tf_cpu"
  },
  "language_info": {
   "codemirror_mode": {
    "name": "ipython",
    "version": 3
   },
   "file_extension": ".py",
   "mimetype": "text/x-python",
   "name": "python",
   "nbconvert_exporter": "python",
   "pygments_lexer": "ipython3",
   "version": "3.8.0"
  }
 },
 "nbformat": 4,
 "nbformat_minor": 5
}

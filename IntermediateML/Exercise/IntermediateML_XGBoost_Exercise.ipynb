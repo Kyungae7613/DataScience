{
 "cells": [
  {
   "cell_type": "code",
   "execution_count": 1,
   "id": "992fbb8b",
   "metadata": {},
   "outputs": [],
   "source": [
    "import pandas as pd\n",
    "from sklearn.model_selection import train_test_split"
   ]
  },
  {
   "cell_type": "code",
   "execution_count": 2,
   "id": "c883bcda",
   "metadata": {},
   "outputs": [],
   "source": [
    "X = pd.read_csv('../../Dataset/home-data-for-ml-course/train.csv', index_col='Id')\n",
    "X_test_full = pd.read_csv('../../Dataset/home-data-for-ml-course/test.csv', index_col='Id' )"
   ]
  },
  {
   "cell_type": "code",
   "execution_count": 3,
   "id": "546870b4",
   "metadata": {},
   "outputs": [],
   "source": [
    "X.dropna(axis=0, subset=['SalePrice'], inplace=True)\n",
    "y = X.SalePrice\n",
    "X.drop(['SalePrice'], axis=1, inplace=True)\n",
    "\n",
    "X_train_full, X_valid_full, y_train, y_valid = train_test_split(X, y, train_size=0.8, test_size=0.2, random_state=0)"
   ]
  },
  {
   "cell_type": "code",
   "execution_count": 4,
   "id": "bef33854",
   "metadata": {},
   "outputs": [],
   "source": [
    "\n",
    "# Select categorical and numerical variables of training data\n",
    "categorical_cols = [cname for cname in X_train_full.columns if X_train_full[cname].nunique() < 10 and X_train_full[cname].dtype == 'object']\n",
    "numerical_cols = [cname for cname in X_train_full.columns if X_train_full[cname].dtype in ['int64', 'float64']]\n",
    "\n",
    "selected_cols = categorical_cols + numerical_cols\n",
    "X_train = X_train_full[selected_cols].copy()\n",
    "X_valid = X_valid_full[selected_cols].copy()\n",
    "X_test = X_test_full[selected_cols].copy()"
   ]
  },
  {
   "cell_type": "code",
   "execution_count": 5,
   "id": "848151f0",
   "metadata": {},
   "outputs": [],
   "source": [
    "X_train = pd.get_dummies(X_train)\n",
    "X_valid = pd.get_dummies(X_valid)\n",
    "X_test = pd.get_dummies(X_test)\n"
   ]
  },
  {
   "cell_type": "code",
   "execution_count": 10,
   "id": "3c9cd61f",
   "metadata": {},
   "outputs": [
    {
     "name": "stdout",
     "output_type": "stream",
     "text": [
      "(1168, 227)\n",
      "(292, 208)\n"
     ]
    }
   ],
   "source": [
    "print(X_train.shape)\n",
    "print(X_valid.shape)"
   ]
  },
  {
   "cell_type": "code",
   "execution_count": 13,
   "id": "80dfb77b",
   "metadata": {},
   "outputs": [],
   "source": [
    "X_train_test = X_train.align(X_valid, join='left', axis=1)\n",
    "X_train, X_valid = X_train.align(X_valid, join='left', axis=1)"
   ]
  },
  {
   "cell_type": "code",
   "execution_count": 17,
   "id": "83f44193",
   "metadata": {},
   "outputs": [
    {
     "name": "stdout",
     "output_type": "stream",
     "text": [
      "Data has been saved to output_1.csv.\n",
      "Data has been saved to output_2.csv.\n",
      "Data has been saved to output_3.csv.\n"
     ]
    }
   ],
   "source": [
    "import csv\n",
    "\n",
    "# List of tuple data\n",
    "all_data = [X_train_test, X_train, X_valid]\n",
    "\n",
    "# Loop through each set of tuple data\n",
    "for i, data in enumerate(all_data, start=1):\n",
    "    # Specify the file name\n",
    "    file_name = f'output_{i}.csv'\n",
    "\n",
    "    # Open the file in write mode with 'newline' parameter to ensure newline consistency\n",
    "    with open(file_name, 'w', newline='') as csv_file:\n",
    "        # Create a CSV writer object\n",
    "        csv_writer = csv.writer(csv_file)\n",
    "\n",
    "        # Write the header if needed\n",
    "        # csv_writer.writerow(['ID', 'Name', 'Age'])\n",
    "\n",
    "        # Write the data\n",
    "        csv_writer.writerows(data)\n",
    "\n",
    "    print(f'Data has been saved to {file_name}.')"
   ]
  },
  {
   "cell_type": "code",
   "execution_count": null,
   "id": "60f7d637",
   "metadata": {},
   "outputs": [],
   "source": []
  }
 ],
 "metadata": {
  "kernelspec": {
   "display_name": "tf_cpu_kernel",
   "language": "python",
   "name": "tf_cpu"
  },
  "language_info": {
   "codemirror_mode": {
    "name": "ipython",
    "version": 3
   },
   "file_extension": ".py",
   "mimetype": "text/x-python",
   "name": "python",
   "nbconvert_exporter": "python",
   "pygments_lexer": "ipython3",
   "version": "3.8.0"
  }
 },
 "nbformat": 4,
 "nbformat_minor": 5
}

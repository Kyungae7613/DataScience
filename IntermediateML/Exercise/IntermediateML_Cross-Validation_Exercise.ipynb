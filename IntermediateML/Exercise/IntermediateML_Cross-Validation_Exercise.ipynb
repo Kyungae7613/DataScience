{
 "cells": [
  {
   "cell_type": "code",
   "execution_count": 1,
   "id": "322e42f6",
   "metadata": {},
   "outputs": [],
   "source": [
    "import pandas as pd\n",
    "from sklearn.model_selection import train_test_split"
   ]
  },
  {
   "cell_type": "code",
   "execution_count": 2,
   "id": "4dbe6887",
   "metadata": {},
   "outputs": [],
   "source": [
    "train_data = pd.read_csv('../../Dataset/home-data-for-ml-course/train.csv')\n",
    "test_data = pd.read_csv('../../Dataset/home-data-for-ml-course/test.csv')"
   ]
  },
  {
   "cell_type": "code",
   "execution_count": 3,
   "id": "566c3bf7",
   "metadata": {},
   "outputs": [],
   "source": [
    "train_data.dropna(axis=0, subset=['SalePrice'], inplace=True)\n",
    "y = train_data.SalePrice\n",
    "train_data.drop(['SalePrice'], axis=1, inplace=True)"
   ]
  },
  {
   "cell_type": "code",
   "execution_count": 4,
   "id": "9c92563a",
   "metadata": {},
   "outputs": [],
   "source": [
    "# Select numerical colums only\n",
    "numerical_cols = [cname for cname in train_data.columns if train_data[cname].dtype in ['int64', 'float64']]\n",
    "X = train_data[numerical_cols].copy()\n",
    "X_test = test_data[numerical_cols].copy()"
   ]
  },
  {
   "cell_type": "code",
   "execution_count": 5,
   "id": "189d217c",
   "metadata": {},
   "outputs": [],
   "source": [
    "from sklearn.ensemble import RandomForestRegressor\n",
    "from sklearn.impute import SimpleImputer\n",
    "from sklearn.pipeline import Pipeline\n",
    "\n",
    "my_pipeline = Pipeline(steps = [('impute', SimpleImputer(strategy='constant')), ('model', RandomForestRegressor(n_estimators=100, random_state=0))])"
   ]
  },
  {
   "cell_type": "code",
   "execution_count": 6,
   "id": "23da0bd0",
   "metadata": {},
   "outputs": [
    {
     "name": "stdout",
     "output_type": "stream",
     "text": [
      "Average MAE score: 18092.453520547944\n"
     ]
    }
   ],
   "source": [
    "from sklearn.model_selection import cross_val_score\n",
    "\n",
    "scores = -1 * cross_val_score(my_pipeline, X, y, cv=5, scoring='neg_mean_absolute_error')\n",
    "print(\"Average MAE score:\", scores.mean())"
   ]
  },
  {
   "cell_type": "markdown",
   "id": "5638eeae",
   "metadata": {},
   "source": [
    "### Step1: Write a useful function"
   ]
  },
  {
   "cell_type": "code",
   "execution_count": 7,
   "id": "b60bb23a",
   "metadata": {},
   "outputs": [],
   "source": [
    "def get_score(n_estimators):\n",
    "    \n",
    "    my_pipeline = Pipeline(steps = [('impute', SimpleImputer()), ('model', RandomForestRegressor(n_estimators, random_state=0))])\n",
    "    scores = -1 * cross_val_score(my_pipeline, X, y, cv=3, scoring='neg_mean_absolute_error')\n",
    "    return scores.mean()"
   ]
  },
  {
   "cell_type": "markdown",
   "id": "7b517e0e",
   "metadata": {},
   "source": [
    "### Step2: Test different parameter values"
   ]
  },
  {
   "cell_type": "code",
   "execution_count": null,
   "id": "c9a7e84b",
   "metadata": {},
   "outputs": [],
   "source": [
    "estimator_values = [50, 100, 150, 200, 250, 300, 350, 400]\n",
    "\n",
    "results = {}\n",
    "for i in estimator_values:\n",
    "    results[i] = get_score(i)"
   ]
  },
  {
   "cell_type": "code",
   "execution_count": 8,
   "id": "c254f6f3",
   "metadata": {},
   "outputs": [],
   "source": [
    "results = {}\n",
    "for i in range(1,12):\n",
    "    results[50*i] = get_score(50*i)"
   ]
  },
  {
   "cell_type": "markdown",
   "id": "7c9c0345",
   "metadata": {},
   "source": [
    "### Step3: Visualize the results of Cross-Validation"
   ]
  },
  {
   "cell_type": "code",
   "execution_count": 9,
   "id": "d686064e",
   "metadata": {},
   "outputs": [
    {
     "data": {
      "image/png": "[encoded data removed]",
      "text/plain": [
       "<Figure size 432x288 with 1 Axes>"
      ]
     },
     "metadata": {
      "needs_background": "light"
     },
     "output_type": "display_data"
    }
   ],
   "source": [
    "import matplotlib.pyplot as plt\n",
    "%matplotlib inline\n",
    "\n",
    "plt.plot(list(results.keys()), list(results.values()))\n",
    "plt.show()"
   ]
  },
  {
   "cell_type": "code",
   "execution_count": 10,
   "id": "7b57a9eb",
   "metadata": {},
   "outputs": [],
   "source": [
    "t = min(results.values())"
   ]
  },
  {
   "cell_type": "code",
   "execution_count": 12,
   "id": "b5291486",
   "metadata": {},
   "outputs": [],
   "source": [
    "key = [k for k, v in results.items() if v == t]"
   ]
  },
  {
   "cell_type": "code",
   "execution_count": 14,
   "id": "99c8b9a7",
   "metadata": {},
   "outputs": [],
   "source": [
    "n_estimators = min(results, key=results.get)"
   ]
  },
  {
   "cell_type": "code",
   "execution_count": 15,
   "id": "ad06d011",
   "metadata": {},
   "outputs": [
    {
     "data": {
      "text/plain": [
       "250"
      ]
     },
     "execution_count": 15,
     "metadata": {},
     "output_type": "execute_result"
    }
   ],
   "source": [
    "n_estimators"
   ]
  },
  {
   "cell_type": "code",
   "execution_count": null,
   "id": "a01c6568",
   "metadata": {},
   "outputs": [],
   "source": []
  }
 ],
 "metadata": {
  "kernelspec": {
   "display_name": "tf_cpu_kernel",
   "language": "python",
   "name": "tf_cpu"
  },
  "language_info": {
   "codemirror_mode": {
    "name": "ipython",
    "version": 3
   },
   "file_extension": ".py",
   "mimetype": "text/x-python",
   "name": "python",
   "nbconvert_exporter": "python",
   "pygments_lexer": "ipython3",
   "version": "3.8.0"
  }
 },
 "nbformat": 4,
 "nbformat_minor": 5
}

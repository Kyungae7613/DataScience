{
 "cells": [
  {
   "cell_type": "code",
   "execution_count": 2,
   "id": "ba77a7af",
   "metadata": {},
   "outputs": [],
   "source": [
    "import pandas as pd\n",
    "from sklearn.ensemble import RandomForestRegressor\n",
    "from sklearn.model_selection import cross_val_score"
   ]
  },
  {
   "cell_type": "code",
   "execution_count": 4,
   "id": "3da8e83d",
   "metadata": {},
   "outputs": [
    {
     "data": {
      "text/html": [
       "<div>\n",
       "<style scoped>\n",
       "    .dataframe tbody tr th:only-of-type {\n",
       "        vertical-align: middle;\n",
       "    }\n",
       "\n",
       "    .dataframe tbody tr th {\n",
       "        vertical-align: top;\n",
       "    }\n",
       "\n",
       "    .dataframe thead th {\n",
       "        text-align: right;\n",
       "    }\n",
       "</style>\n",
       "<table border=\"1\" class=\"dataframe\">\n",
       "  <thead>\n",
       "    <tr style=\"text-align: right;\">\n",
       "      <th></th>\n",
       "      <th>cement</th>\n",
       "      <th>slag</th>\n",
       "      <th>ash</th>\n",
       "      <th>water</th>\n",
       "      <th>superplastic</th>\n",
       "      <th>coarseagg</th>\n",
       "      <th>fineagg</th>\n",
       "      <th>age</th>\n",
       "      <th>strength</th>\n",
       "    </tr>\n",
       "  </thead>\n",
       "  <tbody>\n",
       "    <tr>\n",
       "      <th>0</th>\n",
       "      <td>141.3</td>\n",
       "      <td>212.0</td>\n",
       "      <td>0.0</td>\n",
       "      <td>203.5</td>\n",
       "      <td>0.0</td>\n",
       "      <td>971.8</td>\n",
       "      <td>748.5</td>\n",
       "      <td>28</td>\n",
       "      <td>29.89</td>\n",
       "    </tr>\n",
       "    <tr>\n",
       "      <th>1</th>\n",
       "      <td>168.9</td>\n",
       "      <td>42.2</td>\n",
       "      <td>124.3</td>\n",
       "      <td>158.3</td>\n",
       "      <td>10.8</td>\n",
       "      <td>1080.8</td>\n",
       "      <td>796.2</td>\n",
       "      <td>14</td>\n",
       "      <td>23.51</td>\n",
       "    </tr>\n",
       "    <tr>\n",
       "      <th>2</th>\n",
       "      <td>250.0</td>\n",
       "      <td>0.0</td>\n",
       "      <td>95.7</td>\n",
       "      <td>187.4</td>\n",
       "      <td>5.5</td>\n",
       "      <td>956.9</td>\n",
       "      <td>861.2</td>\n",
       "      <td>28</td>\n",
       "      <td>29.22</td>\n",
       "    </tr>\n",
       "    <tr>\n",
       "      <th>3</th>\n",
       "      <td>266.0</td>\n",
       "      <td>114.0</td>\n",
       "      <td>0.0</td>\n",
       "      <td>228.0</td>\n",
       "      <td>0.0</td>\n",
       "      <td>932.0</td>\n",
       "      <td>670.0</td>\n",
       "      <td>28</td>\n",
       "      <td>45.85</td>\n",
       "    </tr>\n",
       "    <tr>\n",
       "      <th>4</th>\n",
       "      <td>154.8</td>\n",
       "      <td>183.4</td>\n",
       "      <td>0.0</td>\n",
       "      <td>193.3</td>\n",
       "      <td>9.1</td>\n",
       "      <td>1047.4</td>\n",
       "      <td>696.7</td>\n",
       "      <td>28</td>\n",
       "      <td>18.29</td>\n",
       "    </tr>\n",
       "  </tbody>\n",
       "</table>\n",
       "</div>"
      ],
      "text/plain": [
       "   cement   slag    ash  water  superplastic  coarseagg  fineagg  age  \\\n",
       "0   141.3  212.0    0.0  203.5           0.0      971.8    748.5   28   \n",
       "1   168.9   42.2  124.3  158.3          10.8     1080.8    796.2   14   \n",
       "2   250.0    0.0   95.7  187.4           5.5      956.9    861.2   28   \n",
       "3   266.0  114.0    0.0  228.0           0.0      932.0    670.0   28   \n",
       "4   154.8  183.4    0.0  193.3           9.1     1047.4    696.7   28   \n",
       "\n",
       "   strength  \n",
       "0     29.89  \n",
       "1     23.51  \n",
       "2     29.22  \n",
       "3     45.85  \n",
       "4     18.29  "
      ]
     },
     "execution_count": 4,
     "metadata": {},
     "output_type": "execute_result"
    }
   ],
   "source": [
    "df = pd.read_csv('C:../../Dataset/concrete.csv')\n",
    "df.head()"
   ]
  },
  {
   "cell_type": "code",
   "execution_count": 5,
   "id": "0cad43ef",
   "metadata": {},
   "outputs": [
    {
     "name": "stdout",
     "output_type": "stream",
     "text": [
      "<class 'pandas.core.frame.DataFrame'>\n",
      "RangeIndex: 1030 entries, 0 to 1029\n",
      "Data columns (total 9 columns):\n",
      " #   Column        Non-Null Count  Dtype  \n",
      "---  ------        --------------  -----  \n",
      " 0   cement        1030 non-null   float64\n",
      " 1   slag          1030 non-null   float64\n",
      " 2   ash           1030 non-null   float64\n",
      " 3   water         1030 non-null   float64\n",
      " 4   superplastic  1030 non-null   float64\n",
      " 5   coarseagg     1030 non-null   float64\n",
      " 6   fineagg       1030 non-null   float64\n",
      " 7   age           1030 non-null   int64  \n",
      " 8   strength      1030 non-null   float64\n",
      "dtypes: float64(8), int64(1)\n",
      "memory usage: 72.5 KB\n"
     ]
    }
   ],
   "source": [
    "df.info()"
   ]
  },
  {
   "cell_type": "code",
   "execution_count": 6,
   "id": "c7cdedf5",
   "metadata": {},
   "outputs": [],
   "source": [
    "X = df.copy()\n",
    "y = X.pop('strength')"
   ]
  },
  {
   "cell_type": "code",
   "execution_count": 7,
   "id": "4d1f5c90",
   "metadata": {},
   "outputs": [
    {
     "data": {
      "text/plain": [
       "0       29.89\n",
       "1       23.51\n",
       "2       29.22\n",
       "3       45.85\n",
       "4       18.29\n",
       "        ...  \n",
       "1025    13.29\n",
       "1026    41.30\n",
       "1027    44.28\n",
       "1028    55.06\n",
       "1029    52.61\n",
       "Name: strength, Length: 1030, dtype: float64"
      ]
     },
     "execution_count": 7,
     "metadata": {},
     "output_type": "execute_result"
    }
   ],
   "source": []
  },
  {
   "cell_type": "code",
   "execution_count": 8,
   "id": "0d31a159",
   "metadata": {},
   "outputs": [],
   "source": [
    "baseline = RandomForestRegressor(criterion='absolute_error', random_state=0)\n",
    "baseline_score = cross_val_score(baseline, X, y, cv=5, scoring='neg_mean_absolute_error')"
   ]
  },
  {
   "cell_type": "code",
   "execution_count": 9,
   "id": "52b9df0a",
   "metadata": {},
   "outputs": [
    {
     "data": {
      "text/plain": [
       "array([-3.45531626, -3.32715146, -3.95136165, -3.10504951, -3.51297233])"
      ]
     },
     "execution_count": 9,
     "metadata": {},
     "output_type": "execute_result"
    }
   ],
   "source": [
    "baseline_score"
   ]
  },
  {
   "cell_type": "code",
   "execution_count": 10,
   "id": "3949683a",
   "metadata": {},
   "outputs": [
    {
     "name": "stdout",
     "output_type": "stream",
     "text": [
      "MAE Baseline Score: 3.47\n"
     ]
    }
   ],
   "source": [
    "baseline_score = -1 * baseline_score.mean()\n",
    "\n",
    "print(f'MAE Baseline Score: {baseline_score:.4}')"
   ]
  },
  {
   "cell_type": "code",
   "execution_count": 12,
   "id": "911ff5bd",
   "metadata": {},
   "outputs": [],
   "source": [
    "# Create synthetic features\n",
    "X[\"FCRatio\"] = X[\"fineagg\"] / X[\"coarseagg\"]\n",
    "X[\"AggCmtRatio\"] = (X[\"coarseagg\"] + X[\"fineagg\"]) / X[\"cement\"]\n",
    "X[\"WtrCmtRatio\"] = X[\"water\"] / X[\"cement\"]"
   ]
  },
  {
   "cell_type": "code",
   "execution_count": 13,
   "id": "a179f193",
   "metadata": {},
   "outputs": [
    {
     "name": "stdout",
     "output_type": "stream",
     "text": [
      "MAE Score with Ratio Features: 3.388\n"
     ]
    }
   ],
   "source": [
    "# Train and score model on dataset with additional ratio features\n",
    "model = RandomForestRegressor(criterion='absolute_error', random_state=0)\n",
    "score = cross_val_score(model, X, y, cv=5, scoring='neg_mean_absolute_error')\n",
    "\n",
    "score = -1 * score.mean()\n",
    "print(f'MAE Score with Ratio Features: {score:.4}')"
   ]
  },
  {
   "cell_type": "code",
   "execution_count": null,
   "id": "b7d8daba",
   "metadata": {},
   "outputs": [],
   "source": []
  }
 ],
 "metadata": {
  "kernelspec": {
   "display_name": "tf_cpu_kernel",
   "language": "python",
   "name": "tf_cpu"
  },
  "language_info": {
   "codemirror_mode": {
    "name": "ipython",
    "version": 3
   },
   "file_extension": ".py",
   "mimetype": "text/x-python",
   "name": "python",
   "nbconvert_exporter": "python",
   "pygments_lexer": "ipython3",
   "version": "3.8.0"
  }
 },
 "nbformat": 4,
 "nbformat_minor": 5
}

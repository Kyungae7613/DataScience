{
 "cells": [
  {
   "cell_type": "code",
   "execution_count": 1,
   "id": "0426fca2",
   "metadata": {},
   "outputs": [],
   "source": [
    "import pandas as pd\n",
    "import numpy as np"
   ]
  },
  {
   "cell_type": "code",
   "execution_count": 2,
   "id": "98e1ab29",
   "metadata": {},
   "outputs": [
    {
     "name": "stderr",
     "output_type": "stream",
     "text": [
      "C:\\Anaconda3\\envs\\tf_cpu\\lib\\site-packages\\IPython\\core\\interactiveshell.py:3457: DtypeWarning: Columns (22,32) have mixed types.Specify dtype option on import or set low_memory=False.\n",
      "  exec(code_obj, self.user_global_ns, self.user_ns)\n"
     ]
    }
   ],
   "source": [
    "sf_permits = pd.read_csv('C:../../Dataset/Building_Permits.csv')\n",
    "\n",
    "np.random.seed(0)"
   ]
  },
  {
   "cell_type": "code",
   "execution_count": 4,
   "id": "47f6cdea",
   "metadata": {},
   "outputs": [
    {
     "data": {
      "text/plain": [
       "Permit Number                                                                  201505065519\n",
       "Permit Type                                                                               4\n",
       "Permit Type Definition                                                         sign - erect\n",
       "Permit Creation Date                                                             05/06/2015\n",
       "Block                                                                                  0326\n",
       "Lot                                                                                     023\n",
       "Street Number                                                                           140\n",
       "Street Number Suffix                                                                    NaN\n",
       "Street Name                                                                           Ellis\n",
       "Street Suffix                                                                            St\n",
       "Unit                                                                                    NaN\n",
       "Unit Suffix                                                                             NaN\n",
       "Description                               ground fl facade: to erect illuminated, electr...\n",
       "Current Status                                                                      expired\n",
       "Current Status Date                                                              12/21/2017\n",
       "Filed Date                                                                       05/06/2015\n",
       "Issued Date                                                                      11/09/2015\n",
       "Completed Date                                                                          NaN\n",
       "First Construction Document Date                                                 11/09/2015\n",
       "Structural Notification                                                                 NaN\n",
       "Number of Existing Stories                                                              6.0\n",
       "Number of Proposed Stories                                                              NaN\n",
       "Voluntary Soft-Story Retrofit                                                           NaN\n",
       "Fire Only Permit                                                                        NaN\n",
       "Permit Expiration Date                                                           11/03/2016\n",
       "Estimated Cost                                                                       4000.0\n",
       "Revised Cost                                                                         4000.0\n",
       "Existing Use                                                            tourist hotel/motel\n",
       "Existing Units                                                                        143.0\n",
       "Proposed Use                                                                            NaN\n",
       "Proposed Units                                                                          NaN\n",
       "Plansets                                                                                2.0\n",
       "TIDF Compliance                                                                         NaN\n",
       "Existing Construction Type                                                              3.0\n",
       "Existing Construction Type Description                                        constr type 3\n",
       "Proposed Construction Type                                                              NaN\n",
       "Proposed Construction Type Description                                                  NaN\n",
       "Site Permit                                                                             NaN\n",
       "Supervisor District                                                                     3.0\n",
       "Neighborhoods - Analysis Boundaries                                              Tenderloin\n",
       "Zipcode                                                                             94102.0\n",
       "Location                                          (37.785719256680785, -122.40852313194863)\n",
       "Record ID                                                                     1380611233945\n",
       "Name: 0, dtype: object"
      ]
     },
     "execution_count": 4,
     "metadata": {},
     "output_type": "execute_result"
    }
   ],
   "source": [
    "sf_permits.loc[0,:]"
   ]
  },
  {
   "cell_type": "code",
   "execution_count": 8,
   "id": "1ea7b22d",
   "metadata": {},
   "outputs": [],
   "source": [
    "sf_permits_cols_nan = sf_permits.isnull().sum()\n",
    "sf_permits_cols_nan_sum = sf_permits_cols_nan.sum()"
   ]
  },
  {
   "cell_type": "code",
   "execution_count": 10,
   "id": "74c42672",
   "metadata": {},
   "outputs": [],
   "source": [
    "comp_tot = np.product(sf_permits.shape)"
   ]
  },
  {
   "cell_type": "code",
   "execution_count": 13,
   "id": "99889953",
   "metadata": {},
   "outputs": [],
   "source": [
    "percent_missing = (sf_permits_cols_nan_sum/comp_tot)*100"
   ]
  },
  {
   "cell_type": "code",
   "execution_count": 14,
   "id": "f151a9d9",
   "metadata": {},
   "outputs": [
    {
     "data": {
      "text/plain": [
       "26.26002315058403"
      ]
     },
     "execution_count": 14,
     "metadata": {},
     "output_type": "execute_result"
    }
   ],
   "source": [
    "percent_missing"
   ]
  },
  {
   "cell_type": "code",
   "execution_count": 15,
   "id": "d18bc890",
   "metadata": {},
   "outputs": [],
   "source": [
    "sf_permits_droppedNa = sf_permits.dropna()"
   ]
  },
  {
   "cell_type": "code",
   "execution_count": 16,
   "id": "f30489eb",
   "metadata": {},
   "outputs": [
    {
     "data": {
      "text/plain": [
       "(198900, 43)"
      ]
     },
     "execution_count": 16,
     "metadata": {},
     "output_type": "execute_result"
    }
   ],
   "source": [
    "sf_permits.shape"
   ]
  },
  {
   "cell_type": "code",
   "execution_count": 17,
   "id": "da864887",
   "metadata": {},
   "outputs": [
    {
     "data": {
      "text/plain": [
       "(0, 43)"
      ]
     },
     "execution_count": 17,
     "metadata": {},
     "output_type": "execute_result"
    }
   ],
   "source": [
    "sf_permits_droppedNa.shape"
   ]
  },
  {
   "cell_type": "code",
   "execution_count": 18,
   "id": "14d0a93b",
   "metadata": {},
   "outputs": [],
   "source": [
    "sf_permits_with_na_dropped = sf_permits.dropna(axis=1)"
   ]
  },
  {
   "cell_type": "code",
   "execution_count": 19,
   "id": "aba86f39",
   "metadata": {},
   "outputs": [],
   "source": [
    "dropped_columns = sf_permits.shape[1] - sf_permits_with_na_dropped.shape[1]"
   ]
  },
  {
   "cell_type": "code",
   "execution_count": 20,
   "id": "297018d2",
   "metadata": {},
   "outputs": [
    {
     "data": {
      "text/plain": [
       "31"
      ]
     },
     "execution_count": 20,
     "metadata": {},
     "output_type": "execute_result"
    }
   ],
   "source": [
    "dropped_columns"
   ]
  },
  {
   "cell_type": "code",
   "execution_count": 25,
   "id": "bf2cea8b",
   "metadata": {},
   "outputs": [],
   "source": [
    "sf_permits_with_na_imputed = sf_permits.fillna(method='bfill', axis=1).fillna(0)"
   ]
  },
  {
   "cell_type": "code",
   "execution_count": 23,
   "id": "c2503790",
   "metadata": {},
   "outputs": [
    {
     "data": {
      "text/plain": [
       "Permit Number                             0\n",
       "Permit Type                               0\n",
       "Permit Type Definition                    0\n",
       "Permit Creation Date                      0\n",
       "Block                                     0\n",
       "Lot                                       0\n",
       "Street Number                             0\n",
       "Street Number Suffix                      0\n",
       "Street Name                               0\n",
       "Street Suffix                             0\n",
       "Unit                                      0\n",
       "Unit Suffix                               0\n",
       "Description                               0\n",
       "Current Status                            0\n",
       "Current Status Date                       0\n",
       "Filed Date                                0\n",
       "Issued Date                               0\n",
       "Completed Date                            0\n",
       "First Construction Document Date          0\n",
       "Structural Notification                   0\n",
       "Number of Existing Stories                0\n",
       "Number of Proposed Stories                0\n",
       "Voluntary Soft-Story Retrofit             0\n",
       "Fire Only Permit                          0\n",
       "Permit Expiration Date                    0\n",
       "Estimated Cost                            0\n",
       "Revised Cost                              0\n",
       "Existing Use                              0\n",
       "Existing Units                            0\n",
       "Proposed Use                              0\n",
       "Proposed Units                            0\n",
       "Plansets                                  0\n",
       "TIDF Compliance                           0\n",
       "Existing Construction Type                0\n",
       "Existing Construction Type Description    0\n",
       "Proposed Construction Type                0\n",
       "Proposed Construction Type Description    0\n",
       "Site Permit                               0\n",
       "Supervisor District                       0\n",
       "Neighborhoods - Analysis Boundaries       0\n",
       "Zipcode                                   0\n",
       "Location                                  0\n",
       "Record ID                                 0\n",
       "dtype: int64"
      ]
     },
     "execution_count": 23,
     "metadata": {},
     "output_type": "execute_result"
    }
   ],
   "source": [
    "sf_permits_with_na_imputed.isnull().sum()"
   ]
  },
  {
   "cell_type": "code",
   "execution_count": null,
   "id": "b25a57d7",
   "metadata": {},
   "outputs": [],
   "source": []
  }
 ],
 "metadata": {
  "kernelspec": {
   "display_name": "tf_cpu_kernel",
   "language": "python",
   "name": "tf_cpu_kernel"
  },
  "language_info": {
   "codemirror_mode": {
    "name": "ipython",
    "version": 3
   },
   "file_extension": ".py",
   "mimetype": "text/x-python",
   "name": "python",
   "nbconvert_exporter": "python",
   "pygments_lexer": "ipython3",
   "version": "3.8.0"
  }
 },
 "nbformat": 4,
 "nbformat_minor": 5
}

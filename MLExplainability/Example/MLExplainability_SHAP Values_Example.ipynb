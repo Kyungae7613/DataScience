{
 "cells": [
  {
   "cell_type": "code",
   "execution_count": 1,
   "id": "f9eb6f68",
   "metadata": {},
   "outputs": [],
   "source": [
    "import numpy as np\n",
    "import pandas as pd\n",
    "from sklearn.model_selection import train_test_split\n",
    "from sklearn.ensemble import RandomForestClassifier"
   ]
  },
  {
   "cell_type": "code",
   "execution_count": 2,
   "id": "cb381504",
   "metadata": {},
   "outputs": [],
   "source": [
    "data = pd.read_csv('C:../../Dataset/FIFA 2018 Statistics.csv')"
   ]
  },
  {
   "cell_type": "code",
   "execution_count": 4,
   "id": "9160b88d",
   "metadata": {},
   "outputs": [],
   "source": [
    "y = (data['Man of the Match'] == 'Yes')"
   ]
  },
  {
   "cell_type": "code",
   "execution_count": 8,
   "id": "fca8604e",
   "metadata": {},
   "outputs": [],
   "source": [
    "feature_names = [i for i in data.columns if data[i].dtype in [np.int64, np.int64]]"
   ]
  },
  {
   "cell_type": "code",
   "execution_count": 9,
   "id": "20b0d9f5",
   "metadata": {},
   "outputs": [
    {
     "data": {
      "text/plain": [
       "['Goal Scored',\n",
       " 'Ball Possession %',\n",
       " 'Attempts',\n",
       " 'On-Target',\n",
       " 'Off-Target',\n",
       " 'Blocked',\n",
       " 'Corners',\n",
       " 'Offsides',\n",
       " 'Free Kicks',\n",
       " 'Saves',\n",
       " 'Pass Accuracy %',\n",
       " 'Passes',\n",
       " 'Distance Covered (Kms)',\n",
       " 'Fouls Committed',\n",
       " 'Yellow Card',\n",
       " 'Yellow & Red',\n",
       " 'Red',\n",
       " 'Goals in PSO']"
      ]
     },
     "execution_count": 9,
     "metadata": {},
     "output_type": "execute_result"
    }
   ],
   "source": [
    "feature_names"
   ]
  },
  {
   "cell_type": "code",
   "execution_count": 10,
   "id": "05a805a3",
   "metadata": {},
   "outputs": [],
   "source": [
    "X = data[feature_names]"
   ]
  },
  {
   "cell_type": "code",
   "execution_count": 11,
   "id": "48f50b28",
   "metadata": {},
   "outputs": [],
   "source": [
    "train_X, val_X, train_y, val_y = train_test_split(X, y, random_state=1)"
   ]
  },
  {
   "cell_type": "code",
   "execution_count": 12,
   "id": "53e600c0",
   "metadata": {},
   "outputs": [],
   "source": [
    "my_model = RandomForestClassifier(random_state=0).fit(train_X, train_y)"
   ]
  },
  {
   "cell_type": "code",
   "execution_count": null,
   "id": "a8b9c94e",
   "metadata": {},
   "outputs": [],
   "source": [
    "row_to_show = 5\n",
    "data_for_prediction = val_X.iloc[row_to_show]\n",
    "data_for_prediction_array = data_for_prediction"
   ]
  }
 ],
 "metadata": {
  "kernelspec": {
   "display_name": "tf_cpu_kernel",
   "language": "python",
   "name": "tf_cpu"
  },
  "language_info": {
   "codemirror_mode": {
    "name": "ipython",
    "version": 3
   },
   "file_extension": ".py",
   "mimetype": "text/x-python",
   "name": "python",
   "nbconvert_exporter": "python",
   "pygments_lexer": "ipython3",
   "version": "3.8.0"
  }
 },
 "nbformat": 4,
 "nbformat_minor": 5
}
